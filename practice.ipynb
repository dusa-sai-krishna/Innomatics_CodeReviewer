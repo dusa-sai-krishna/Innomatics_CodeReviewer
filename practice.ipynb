{
 "cells": [
  {
   "cell_type": "markdown",
   "metadata": {},
   "source": [
    "# Import Libraries"
   ]
  },
  {
   "cell_type": "code",
   "execution_count": 14,
   "metadata": {},
   "outputs": [],
   "source": [
    "import google.generativeai as genai"
   ]
  },
  {
   "cell_type": "markdown",
   "metadata": {},
   "source": [
    "# Set up API_KEY"
   ]
  },
  {
   "cell_type": "code",
   "execution_count": 15,
   "metadata": {},
   "outputs": [],
   "source": [
    "with open('../GEMINI_API_KEY.txt', 'r') as f:\n",
    "    api_key = f.read().strip()\n",
    "\n",
    "genai.configure(api_key=api_key)"
   ]
  },
  {
   "cell_type": "markdown",
   "metadata": {},
   "source": [
    "# Initializing the model"
   ]
  },
  {
   "cell_type": "code",
   "execution_count": 22,
   "metadata": {},
   "outputs": [],
   "source": [
    "\n",
    "model = genai.GenerativeModel('gemini-pro')"
   ]
  },
  {
   "cell_type": "markdown",
   "metadata": {},
   "source": [
    "# Prompting"
   ]
  },
  {
   "cell_type": "code",
   "execution_count": 31,
   "metadata": {},
   "outputs": [],
   "source": [
    "sys_instruction='''\n",
    "        You are a code reviewer. Your job is to review code and provide feedback. You must provide a ordered list of bugs present within the code\n",
    "        then the correct version of the code. As you only provide correct responses, I want to crosscheck your reponses five times. \n",
    "        \n",
    "        \n",
    "        The response should be in following format\n",
    "        \n",
    "        heading 1: Code Review\n",
    "        \n",
    "        heading2: Bug Report\n",
    "        List of bugs\n",
    "        \n",
    "        heading2: \n",
    "        Refactored Code\n",
    "'''\n"
   ]
  },
  {
   "cell_type": "code",
   "execution_count": 26,
   "metadata": {},
   "outputs": [
    {
     "data": {
      "text/plain": [
       "response:\n",
       "GenerateContentResponse(\n",
       "    done=True,\n",
       "    iterator=None,\n",
       "    result=glm.GenerateContentResponse({'candidates': [{'content': {'parts': [{'text': \"The meaning of life is a question that has been debated and pondered by philosophers, theologians, and scientists for centuries. There is no one definitive answer that is universally accepted, as the meaning of life is likely to be unique to each individual.\\n\\nSome believe that the meaning of life is to find happiness and fulfillment, while others believe that it is to make a difference in the world. Still others believe that the meaning of life is to simply enjoy the journey, and that there is no ultimate purpose or goal.\\n\\nUltimately, the meaning of life is something that each individual must discover for themselves. There is no right or wrong answer, and the journey of discovery can be both challenging and rewarding.\\n\\nHere are some additional thoughts on the meaning of life from various perspectives:\\n\\n* **Philosophical perspectives:**\\n\\n    * Existentialism: The meaning of life is not inherent, but rather is created by each individual through their choices and actions.\\n    * Absurdism: The universe is fundamentally meaningless, and the search for meaning is futile.\\n    * Epicureanism: The goal of life is to achieve happiness and avoid pain.\\n    * Stoicism: The meaning of life is to live in accordance with nature and reason, and to accept what cannot be changed.\\n\\n* **Religious perspectives:**\\n\\n    * Christianity: The meaning of life is to love God and love others, and to strive to live according to God's will.\\n    * Judaism: The meaning of life is to fulfill the commandments of the Torah, and to live a life of holiness and righteousness.\\n    * Islam: The meaning of life is to submit to the will of Allah, and to live a life of peace and harmony.\\n\\n* **Scientific perspectives:**\\n\\n    * Evolutionary biology: The meaning of life is to survive and reproduce, and to pass on one's genes to future generations.\\n    * Neuroscience: The meaning of life is to create and experience consciousness, and to explore the limits of human potential.\\n\\nUltimately, the meaning of life is a question that each individual must answer for themselves. There is no one right answer, and the journey of discovery can be both challenging and rewarding.\"}], 'role': 'model'}, 'finish_reason': 1, 'index': 0, 'safety_ratings': [{'category': 9, 'probability': 1, 'blocked': False}, {'category': 8, 'probability': 1, 'blocked': False}, {'category': 7, 'probability': 1, 'blocked': False}, {'category': 10, 'probability': 1, 'blocked': False}], 'token_count': 0, 'grounding_attributions': []}]}),\n",
       ")"
      ]
     },
     "execution_count": 26,
     "metadata": {},
     "output_type": "execute_result"
    }
   ],
   "source": [
    "response = model.generate_content(\"What is the meaning of life?\")\n",
    "response"
   ]
  },
  {
   "cell_type": "code",
   "execution_count": 27,
   "metadata": {},
   "outputs": [
    {
     "name": "stdout",
     "output_type": "stream",
     "text": [
      "The meaning of life is a question that has been debated and pondered by philosophers, theologians, and scientists for centuries. There is no one definitive answer that is universally accepted, as the meaning of life is likely to be unique to each individual.\n",
      "\n",
      "Some believe that the meaning of life is to find happiness and fulfillment, while others believe that it is to make a difference in the world. Still others believe that the meaning of life is to simply enjoy the journey, and that there is no ultimate purpose or goal.\n",
      "\n",
      "Ultimately, the meaning of life is something that each individual must discover for themselves. There is no right or wrong answer, and the journey of discovery can be both challenging and rewarding.\n",
      "\n",
      "Here are some additional thoughts on the meaning of life from various perspectives:\n",
      "\n",
      "* **Philosophical perspectives:**\n",
      "\n",
      "    * Existentialism: The meaning of life is not inherent, but rather is created by each individual through their choices and actions.\n",
      "    * Absurdism: The universe is fundamentally meaningless, and the search for meaning is futile.\n",
      "    * Epicureanism: The goal of life is to achieve happiness and avoid pain.\n",
      "    * Stoicism: The meaning of life is to live in accordance with nature and reason, and to accept what cannot be changed.\n",
      "\n",
      "* **Religious perspectives:**\n",
      "\n",
      "    * Christianity: The meaning of life is to love God and love others, and to strive to live according to God's will.\n",
      "    * Judaism: The meaning of life is to fulfill the commandments of the Torah, and to live a life of holiness and righteousness.\n",
      "    * Islam: The meaning of life is to submit to the will of Allah, and to live a life of peace and harmony.\n",
      "\n",
      "* **Scientific perspectives:**\n",
      "\n",
      "    * Evolutionary biology: The meaning of life is to survive and reproduce, and to pass on one's genes to future generations.\n",
      "    * Neuroscience: The meaning of life is to create and experience consciousness, and to explore the limits of human potential.\n",
      "\n",
      "Ultimately, the meaning of life is a question that each individual must answer for themselves. There is no one right answer, and the journey of discovery can be both challenging and rewarding.\n"
     ]
    }
   ],
   "source": [
    "print(response.text)"
   ]
  },
  {
   "cell_type": "markdown",
   "metadata": {},
   "source": [
    "# Creating a code reviewer"
   ]
  },
  {
   "cell_type": "code",
   "execution_count": 36,
   "metadata": {},
   "outputs": [],
   "source": [
    "def getReview(code):\n",
    "    prompt=sys_instruction+'Instruction: Review the following code'+code\n",
    "    \n",
    "    response=model.generate_content(prompt)\n",
    "    \n",
    "    return response\n",
    "    "
   ]
  },
  {
   "cell_type": "code",
   "execution_count": 33,
   "metadata": {},
   "outputs": [],
   "source": [
    "#code\n",
    "def isPrime(n):\n",
    "    if n<1: return False\n",
    "    \n",
    "    for i in range(2,sqrt(n)):\n",
    "        if n/i==0: return False\n",
    "    \n",
    "    return False"
   ]
  },
  {
   "cell_type": "code",
   "execution_count": 34,
   "metadata": {},
   "outputs": [
    {
     "data": {
      "text/plain": [
       "response:\n",
       "GenerateContentResponse(\n",
       "    done=True,\n",
       "    iterator=None,\n",
       "    result=glm.GenerateContentResponse({'candidates': [{'content': {'parts': [{'text': '## Code Review\\n\\n### Bug Report\\n\\n1. The loop should run up to the square root of n because any factor greater than the square root of n will have a corresponding factor less than the square root.\\n2. The condition n/i==0 should be changed to n%i==0 to check if n is divisible by i.\\n3. The function should return True if n is prime, and False otherwise.\\n\\n\\n###  Refactored Code\\n\\n```\\ndef isPrime(n):\\n    if n<2: return False\\n    \\n    for i in range(2,int(sqrt(n))+1):\\n        if n%i==0: return False\\n    \\n    return True\\n\\n```'}], 'role': 'model'}, 'finish_reason': 1, 'index': 0, 'safety_ratings': [{'category': 9, 'probability': 1, 'blocked': False}, {'category': 8, 'probability': 1, 'blocked': False}, {'category': 7, 'probability': 1, 'blocked': False}, {'category': 10, 'probability': 1, 'blocked': False}], 'token_count': 0, 'grounding_attributions': []}]}),\n",
       ")"
      ]
     },
     "execution_count": 34,
     "metadata": {},
     "output_type": "execute_result"
    }
   ],
   "source": [
    "code='''\n",
    "def isPrime(n):\n",
    "    if n<1: return False\n",
    "    \n",
    "    for i in range(2,sqrt(n)):\n",
    "        if n/i==0: return False\n",
    "    \n",
    "    return False\n",
    "\n",
    "'''\n",
    "\n",
    "response=getReview(code)\n",
    "response"
   ]
  },
  {
   "cell_type": "code",
   "execution_count": 38,
   "metadata": {},
   "outputs": [
    {
     "name": "stdout",
     "output_type": "stream",
     "text": [
      "## Code Review\n",
      "\n",
      "### Bug Report\n",
      "\n",
      "1. The loop should run up to the square root of n because any factor greater than the square root of n will have a corresponding factor less than the square root.\n",
      "2. The condition n/i==0 should be changed to n%i==0 to check if n is divisible by i.\n",
      "3. The function should return True if n is prime, and False otherwise.\n",
      "\n",
      "\n",
      "###  Refactored Code\n",
      "\n",
      "```\n",
      "def isPrime(n):\n",
      "    if n<2: return False\n",
      "    \n",
      "    for i in range(2,int(sqrt(n))+1):\n",
      "        if n%i==0: return False\n",
      "    \n",
      "    return True\n",
      "\n",
      "```\n",
      "----------------------------------------\n"
     ]
    }
   ],
   "source": [
    "print(response.text)"
   ]
  },
  {
   "cell_type": "markdown",
   "metadata": {},
   "source": [
    "## Code Review\n",
    "\n",
    "### Bug Report\n",
    "\n",
    "1. The loop should run up to the square root of n because any factor greater than the square root of n will have a corresponding factor less than the square root.\n",
    "2. The condition n/i==0 should be changed to n%i==0 to check if n is divisible by i.\n",
    "3. The function should return True if n is prime, and False otherwise.\n",
    "\n",
    "\n",
    "###  Refactored Code\n",
    "\n",
    "```\n",
    "def isPrime(n):\n",
    "    if n<2: return False\n",
    "    \n",
    "    for i in range(2,int(sqrt(n))+1):\n",
    "        if n%i==0: return False\n",
    "    \n",
    "    return True\n",
    "\n",
    "```"
   ]
  },
  {
   "cell_type": "code",
   "execution_count": null,
   "metadata": {},
   "outputs": [],
   "source": []
  }
 ],
 "metadata": {
  "kernelspec": {
   "display_name": "Python 3",
   "language": "python",
   "name": "python3"
  },
  "language_info": {
   "codemirror_mode": {
    "name": "ipython",
    "version": 3
   },
   "file_extension": ".py",
   "mimetype": "text/x-python",
   "name": "python",
   "nbconvert_exporter": "python",
   "pygments_lexer": "ipython3",
   "version": "3.9.19"
  }
 },
 "nbformat": 4,
 "nbformat_minor": 2
}
